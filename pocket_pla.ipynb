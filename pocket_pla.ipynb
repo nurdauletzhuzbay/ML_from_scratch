{
 "cells": [
  {
   "cell_type": "markdown",
   "metadata": {},
   "source": [
    "Import all libraries that will be used"
   ]
  },
  {
   "cell_type": "code",
   "execution_count": 31,
   "metadata": {},
   "outputs": [],
   "source": [
    "import numpy as np\n",
    "import matplotlib.pyplot as plt\n",
    "from random import seed\n",
    "from random import randint"
   ]
  },
  {
   "cell_type": "markdown",
   "metadata": {},
   "source": [
    "Define a target function"
   ]
  },
  {
   "cell_type": "code",
   "execution_count": 42,
   "metadata": {},
   "outputs": [],
   "source": [
    "#target function\n",
    "def target(x):\n",
    "    return 2-x"
   ]
  },
  {
   "cell_type": "markdown",
   "metadata": {},
   "source": [
    "Generate labels and randomly place them along our target function. Define y_labels as 1 and -1. "
   ]
  },
  {
   "cell_type": "code",
   "execution_count": 62,
   "metadata": {},
   "outputs": [
    {
     "data": {
      "image/png": "[encoded data removed]",
      "text/plain": [
       "<Figure size 432x288 with 1 Axes>"
      ]
     },
     "metadata": {
      "needs_background": "light"
     },
     "output_type": "display_data"
    }
   ],
   "source": [
    "seed(0)\n",
    "n = 50\n",
    "# generate some random numbers\n",
    "x_1 = np.zeros(n)\n",
    "x_2 = np.zeros(n)\n",
    "y_labels = np.zeros(n)\n",
    "\n",
    "for i in range (0,n):\n",
    "    x_1[i] = randint(-100,100)\n",
    "    x_2[i] = randint(-100,100)\n",
    "    if x_2[i]>f_x(x_1[i]):\n",
    "        y_labels[i] = 1\n",
    "    else:\n",
    "        y_labels[i] = -1\n",
    "\n",
    "\n",
    "a = np.arange(-100,100)\n",
    "plt.plot(a,f_x(a))\n",
    "for i in range(0,n):\n",
    "    if y_labels[i] == 1:\n",
    "        plt.scatter(x_1[i],x_2[i], color = 'blue',marker = '+')\n",
    "    else:\n",
    "        plt.scatter(x_1[i],x_2[i], color = 'green')\n",
    "plt.xlabel(\"x_1 axis\")\n",
    "plt.ylabel(\"x_2 axis\")\n",
    "plt.show()"
   ]
  },
  {
   "cell_type": "markdown",
   "metadata": {},
   "source": [
    "Construct X and Y matrices"
   ]
  },
  {
   "cell_type": "code",
   "execution_count": 63,
   "metadata": {},
   "outputs": [
    {
     "name": "stdout",
     "output_type": "stream",
     "text": [
      "[[   1.   -2.   94.]\n",
      " [   1.    7.  -90.]\n",
      " [   1.  -34.   30.]\n",
      " [   1.   24.    3.]\n",
      " [   1.  100.  -23.]\n",
      " [   1.   22.   -9.]\n",
      " [   1.   49.  -45.]\n",
      " [   1.   29.  -65.]\n",
      " [   1.  -28.  -65.]\n",
      " [   1.   93.  -76.]\n",
      " [   1.   58.  -36.]\n",
      " [   1.   36.   80.]\n",
      " [   1.   54.  -63.]\n",
      " [   1.  -21.  -75.]\n",
      " [   1.   86.  -82.]\n",
      " [   1.   75.  -16.]\n",
      " [   1.   20.   43.]\n",
      " [   1.  -75.  -10.]\n",
      " [   1.   11.  -20.]\n",
      " [   1.   56.   63.]\n",
      " [   1.  -48.   41.]\n",
      " [   1.   22.   13.]\n",
      " [   1.   33.  -34.]\n",
      " [   1.  -85.   40.]\n",
      " [   1.  -97.  -77.]\n",
      " [   1.   84.    2.]\n",
      " [   1.   81.  100.]\n",
      " [   1.   71.   60.]\n",
      " [   1. -100.   56.]\n",
      " [   1.   26.  -15.]\n",
      " [   1.  -38.   86.]\n",
      " [   1.  -17.   80.]\n",
      " [   1.  -84.  -52.]\n",
      " [   1.   45.  -44.]\n",
      " [   1.  -39.  -64.]\n",
      " [   1.   39.   14.]\n",
      " [   1.  -77.  -80.]\n",
      " [   1.  -19.   30.]\n",
      " [   1.   25.  -73.]\n",
      " [   1.  -23.   41.]\n",
      " [   1.  -26.   80.]\n",
      " [   1.  -69.   40.]\n",
      " [   1.  -15.   38.]\n",
      " [   1.  -48.   54.]\n",
      " [   1.   40.   50.]\n",
      " [   1.  -27.   13.]\n",
      " [   1.  -77.   52.]\n",
      " [   1.   -2.  -19.]\n",
      " [   1.   47.  -39.]\n",
      " [   1.  -26.  -53.]]\n",
      "[ 1. -1. -1.  1.  1.  1.  1. -1. -1.  1.  1.  1. -1. -1.  1.  1.  1. -1.\n",
      " -1.  1. -1.  1. -1. -1. -1.  1.  1.  1. -1.  1.  1.  1. -1. -1. -1.  1.\n",
      " -1.  1. -1.  1.  1. -1.  1.  1.  1. -1. -1. -1.  1. -1.]\n"
     ]
    }
   ],
   "source": [
    "X = np.zeros((n,3))\n",
    "\n",
    "for i in range (0,n):\n",
    "    for j in range (0,3):\n",
    "        if j == 0:\n",
    "            X[i][j] = 1\n",
    "        elif j == 1:\n",
    "            X[i][j] = x_1[i]\n",
    "        else:\n",
    "            X[i][j] = x_2[i]\n",
    "print (X)\n",
    "\n",
    "Y = np.zeros(n)\n",
    "for k in range(0, n):\n",
    "    Y[k] = y_labels[k]\n",
    "\n",
    "print(Y)"
   ]
  },
  {
   "cell_type": "code",
   "execution_count": 64,
   "metadata": {},
   "outputs": [],
   "source": [
    "def error(X, Y, w):\n",
    "    err = 0\n",
    "    for i in range(0,len(X)):\n",
    "        if (w[0]+w[1]*X[i][1]+w[2]*X[i][2])*Y[i] <= 0:\n",
    "            err = err+1\n",
    "        else:\n",
    "            err = err+0\n",
    "\n",
    "    return err"
   ]
  },
  {
   "cell_type": "code",
   "execution_count": 65,
   "metadata": {},
   "outputs": [],
   "source": [
    "def perceptron(X, Y, w):\n",
    "    correct_pred = 1\n",
    "    while correct_pred > 0:\n",
    "        correct_pred = 1\n",
    "        for i in range(0,len(X)):\n",
    "            if (w[0]+w[1]*X[i][1]+w[2]*X[i][2])*Y[i] <= 0:\n",
    "                  w = w + Y[i]*X[i]\n",
    "                  break\n",
    "            else:\n",
    "                correct_pred = correct_pred + 1\n",
    "        if correct_pred==len(X)+1: #no more mistakes\n",
    "            break\n",
    "\n",
    "    return w"
   ]
  },
  {
   "cell_type": "code",
   "execution_count": 66,
   "metadata": {},
   "outputs": [],
   "source": [
    "def pocket(X, y_labels):\n",
    "    w_pocket = np.array([0,0,0])\n",
    "    best_error = error(X,y_labels, w_pocket)\n",
    "    for i in range(0, 1000):\n",
    "        w_new = perceptron(X,y_labels, w_pocket)\n",
    "        new_error = error(X, y_labels, w_new)\n",
    "        #print(w_new)\n",
    "        #print(new_error)\n",
    "        #print(best_error)\n",
    "        if new_error < best_error:\n",
    "            w_pocket = w_new\n",
    "            best_error = error(X,y_labels,w_new)\n",
    "\n",
    "    return w_pocket"
   ]
  },
  {
   "cell_type": "code",
   "execution_count": 67,
   "metadata": {},
   "outputs": [
    {
     "data": {
      "image/png": "[encoded data removed]",
      "text/plain": [
       "<Figure size 432x288 with 1 Axes>"
      ]
     },
     "metadata": {
      "needs_background": "light"
     },
     "output_type": "display_data"
    }
   ],
   "source": [
    "w = pocket(X, Y)\n",
    "x_ax = np.arange(-100, 100)\n",
    "slope = -w[1]/w[2]\n",
    "y_ax = slope*x_ax\n",
    "plt.plot(x_ax, y_ax, '-',label='final hypothesis g(X)')\n",
    "plt.legend()\n",
    "a = np.arange(-100,100)\n",
    "plt.plot(a, target(a))\n",
    "for i in range(0, n):\n",
    "    if y_labels[i] == 1:\n",
    "        plt.scatter(x_1[i],x_2[i], color = 'blue', marker = '+')\n",
    "    else:\n",
    "        plt.scatter(x_1[i],x_2[i], color = 'red', marker = '$-$')\n",
    "plt.xlabel(\"x1 axis\")\n",
    "plt.ylabel(\"x2 axis\")\n",
    "plt.title(\"Data set size = %s\" %n)\n",
    "plt.show()"
   ]
  },
  {
   "cell_type": "code",
   "execution_count": null,
   "metadata": {},
   "outputs": [],
   "source": []
  },
  {
   "cell_type": "code",
   "execution_count": null,
   "metadata": {},
   "outputs": [],
   "source": []
  },
  {
   "cell_type": "code",
   "execution_count": null,
   "metadata": {},
   "outputs": [],
   "source": []
  },
  {
   "cell_type": "code",
   "execution_count": null,
   "metadata": {},
   "outputs": [],
   "source": []
  }
 ],
 "metadata": {
  "kernelspec": {
   "display_name": "Python 3.8.0 64-bit",
   "language": "python",
   "name": "python38064bit6346d0aea4de42589ce18e8005447197"
  },
  "language_info": {
   "codemirror_mode": {
    "name": "ipython",
    "version": 3
   },
   "file_extension": ".py",
   "mimetype": "text/x-python",
   "name": "python",
   "nbconvert_exporter": "python",
   "pygments_lexer": "ipython3",
   "version": "3.8.0"
  }
 },
 "nbformat": 4,
 "nbformat_minor": 4
}
